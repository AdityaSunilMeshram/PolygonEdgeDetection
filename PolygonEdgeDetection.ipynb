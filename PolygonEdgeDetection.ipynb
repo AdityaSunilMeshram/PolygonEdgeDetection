{
  "nbformat": 4,
  "nbformat_minor": 0,
  "metadata": {
    "colab": {
      "name": "PolygonEdgeDetection.ipynb",
      "version": "0.3.2",
      "provenance": [],
      "private_outputs": true,
      "collapsed_sections": []
    },
    "kernelspec": {
      "name": "python3",
      "display_name": "Python 3"
    },
    "accelerator": "GPU"
  },
  "cells": [
    {
      "metadata": {
        "id": "aOkQte3or7qN",
        "colab_type": "code",
        "colab": {}
      },
      "cell_type": "code",
      "source": [
        "# Load the Drive helper and mount\n",
        "from google.colab import drive\n",
        "\n",
        "# This will prompt for authorization.\n",
        "drive.mount('/content/drive')"
      ],
      "execution_count": 0,
      "outputs": []
    },
    {
      "metadata": {
        "id": "hxP5w0A6r-Tt",
        "colab_type": "code",
        "colab": {}
      },
      "cell_type": "code",
      "source": [
        "cd drive"
      ],
      "execution_count": 0,
      "outputs": []
    },
    {
      "metadata": {
        "id": "rjizkHEfaolU",
        "colab_type": "code",
        "colab": {}
      },
      "cell_type": "code",
      "source": [
        "cd My Drive"
      ],
      "execution_count": 0,
      "outputs": []
    },
    {
      "metadata": {
        "id": "h65HX8kUbZp2",
        "colab_type": "code",
        "colab": {}
      },
      "cell_type": "code",
      "source": [
        "cd Colab Notebooks"
      ],
      "execution_count": 0,
      "outputs": []
    },
    {
      "metadata": {
        "id": "dYI1XMG0c_zf",
        "colab_type": "code",
        "colab": {}
      },
      "cell_type": "code",
      "source": [
        "import numpy\n",
        "import pandas as pd\n",
        "import tensorflow as tf\n",
        "import keras\n",
        "from keras import backend as K\n",
        "from keras.preprocessing.image import ImageDataGenerator\n",
        "from keras import layers\n",
        "from keras.layers import Input,Dense,Activation,ZeroPadding2D,BatchNormalization,Flatten,Conv2D\n",
        "from keras.layers import MaxPooling2D,Dropout,Lambda,Concatenate\n",
        "from keras.models import Model\n",
        "K.clear_session()"
      ],
      "execution_count": 0,
      "outputs": []
    },
    {
      "metadata": {
        "id": "8BPnTgjAdHy2",
        "colab_type": "code",
        "colab": {}
      },
      "cell_type": "code",
      "source": [
        "#Hyperparameters\n",
        "minibatch_size=256\n",
        "ch=[32,64,64]\n",
        "f=3\n",
        "s=2\n",
        "maxp_f=[2,2,2]\n",
        "maxp_s=2\n",
        "pad=['same','same','same']\n",
        "den=[1024,1024,128,6]\n",
        "epochs=50\n",
        "labels=[\"3\",\"4\",\"5\",\"6\",\"7\",\"8\"]"
      ],
      "execution_count": 0,
      "outputs": []
    },
    {
      "metadata": {
        "id": "oBmDGwjodWT5",
        "colab_type": "code",
        "colab": {}
      },
      "cell_type": "code",
      "source": [
        "train_data=ImageDataGenerator(rescale=1./255).flow_from_directory(\n",
        "        directory='./DATA/train',\n",
        "        target_size=(256,256),\n",
        "        color_mode='rgb',\n",
        "        classes=labels,\n",
        "        batch_size=minibatch_size,\n",
        "        class_mode='categorical',\n",
        "        shuffle=True)\n",
        "(X_train,Y_train)=train_data[0]"
      ],
      "execution_count": 0,
      "outputs": []
    },
    {
      "metadata": {
        "id": "S0GLg8ZtdbG9",
        "colab_type": "text"
      },
      "cell_type": "markdown",
      "source": [
        "Loading Training data in numpy array format."
      ]
    },
    {
      "metadata": {
        "id": "zD_lmL3b_YnN",
        "colab_type": "code",
        "colab": {}
      },
      "cell_type": "code",
      "source": [
        "#Convolutional layer with Conv2D,BatchNormalization,Activation of Relu and MaxPooling\n",
        "def conv_layer_with_pool(X_prev,l):\n",
        "    X=Conv2D(ch[l],kernel_size=(f,f),strides=(s,s),padding=pad[l],name=\"conv\"+str(l))(X_prev)\n",
        "    X=BatchNormalization(axis=3,name=\"BN\"+str(l))(X)\n",
        "    X=Activation('relu')(X)\n",
        "    X_inc=X\n",
        "    if maxp_f[l] != 0:\n",
        "        X=MaxPooling2D((maxp_f[l],maxp_f[l]),strides=maxp_s)(X)\n",
        "    #X=Dropout(convdo[l])(X)\n",
        "    return X"
      ],
      "execution_count": 0,
      "outputs": []
    },
    {
      "metadata": {
        "id": "FthYVuKQdvcs",
        "colab_type": "code",
        "colab": {}
      },
      "cell_type": "code",
      "source": [
        "\n",
        "def neural_net(input_shape=(256,256,3),output_size=6):\n",
        "    X_input=Input(input_shape)\n",
        "    X=X_input\n",
        "    for l in range(len(ch)):\n",
        "        X_prev=X\n",
        "        X=conv_layer_with_pool(X_prev,l)\n",
        "    X=Flatten()(X)\n",
        "    for l in range(len(den)-1):\n",
        "        X=Dense(den[l],activation=\"relu\",name=\"fc\"+str(l))(X)\n",
        "        #X=Dropout(do[l])(X)\n",
        "    X=Dense(den[len(den)-1],activation=\"softmax\",name=\"fc\"+str(len(den)-1))(X)\n",
        "    model=Model(inputs=X_input,outputs=X,name=\"EgdeDetection\")\n",
        "    return model"
      ],
      "execution_count": 0,
      "outputs": []
    },
    {
      "metadata": {
        "id": "rLFsFdGk-Omi",
        "colab_type": "code",
        "colab": {}
      },
      "cell_type": "code",
      "source": [
        "model=neural_net()\n",
        "model.compile(optimizer='adam',loss='categorical_crossentropy',metrics=['accuracy'])\n",
        "model.fit_generator(\n",
        "        train_data,\n",
        "        steps_per_epoch=32,\n",
        "        epochs=epochs)\n",
        "preds=model.evaluate(X_train,Y_train)\n",
        "print(\"Training Loss: \"+str(preds[0]))\n",
        "print(\"Training Accuracy: \"+str(preds[1]))"
      ],
      "execution_count": 0,
      "outputs": []
    },
    {
      "metadata": {
        "id": "JJ2kK9DDoN_3",
        "colab_type": "code",
        "colab": {}
      },
      "cell_type": "code",
      "source": [
        ""
      ],
      "execution_count": 0,
      "outputs": []
    }
  ]
}